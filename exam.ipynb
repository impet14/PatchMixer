{
 "cells": [
  {
   "cell_type": "code",
   "execution_count": 2,
   "metadata": {},
   "outputs": [
    {
     "name": "stdout",
     "output_type": "stream",
     "text": [
      "/home/m-alien/Documents/gosoft\n",
      "/home/m-alien/Documents/gosoft/PatchMixer\n",
      "Python 3.8.20\n",
      "\n",
      "/home/m-alien/miniconda3/envs/gosoftenv/lib/python38.zip\n",
      "/home/m-alien/miniconda3/envs/gosoftenv/lib/python3.8\n",
      "/home/m-alien/miniconda3/envs/gosoftenv/lib/python3.8/lib-dynload\n",
      "/home/m-alien/miniconda3/envs/gosoftenv/lib/python3.8/site-packages\n"
     ]
    }
   ],
   "source": [
    "!pwd\n",
    "%cd PatchMixer\n",
    "!python -V\n",
    "!python -c \"import sys; print('\\n'.join(sys.path))\""
   ]
  },
  {
   "cell_type": "code",
   "execution_count": 3,
   "metadata": {},
   "outputs": [
    {
     "name": "stdout",
     "output_type": "stream",
     "text": [
      "Requirement already satisfied: matplotlib==3.7.1 in /home/m-alien/miniconda3/envs/gosoftenv/lib/python3.8/site-packages (from -r requirements.txt (line 4)) (3.7.1)\n",
      "Requirement already satisfied: matplotlib-inline==0.1.7 in /home/m-alien/miniconda3/envs/gosoftenv/lib/python3.8/site-packages (from -r requirements.txt (line 5)) (0.1.7)\n",
      "Requirement already satisfied: numba==0.57.0 in /home/m-alien/miniconda3/envs/gosoftenv/lib/python3.8/site-packages (from -r requirements.txt (line 6)) (0.57.0)\n",
      "Requirement already satisfied: numpy==1.23.5 in /home/m-alien/miniconda3/envs/gosoftenv/lib/python3.8/site-packages (from -r requirements.txt (line 7)) (1.23.5)\n",
      "Requirement already satisfied: pandas==1.5.3 in /home/m-alien/miniconda3/envs/gosoftenv/lib/python3.8/site-packages (from -r requirements.txt (line 8)) (1.5.3)\n",
      "Requirement already satisfied: scikit-learn==1.2.2 in /home/m-alien/miniconda3/envs/gosoftenv/lib/python3.8/site-packages (from -r requirements.txt (line 9)) (1.2.2)\n",
      "Requirement already satisfied: scipy==1.10.1 in /home/m-alien/miniconda3/envs/gosoftenv/lib/python3.8/site-packages (from -r requirements.txt (line 10)) (1.10.1)\n",
      "Requirement already satisfied: torch==2.0.1 in /home/m-alien/miniconda3/envs/gosoftenv/lib/python3.8/site-packages (from -r requirements.txt (line 11)) (2.0.1)\n",
      "Requirement already satisfied: torchaudio==2.0.2 in /home/m-alien/miniconda3/envs/gosoftenv/lib/python3.8/site-packages (from -r requirements.txt (line 12)) (2.0.2)\n",
      "Requirement already satisfied: torchmetrics==0.11.4 in /home/m-alien/miniconda3/envs/gosoftenv/lib/python3.8/site-packages (from -r requirements.txt (line 13)) (0.11.4)\n",
      "Requirement already satisfied: torchsummary==1.5.1 in /home/m-alien/miniconda3/envs/gosoftenv/lib/python3.8/site-packages (from -r requirements.txt (line 14)) (1.5.1)\n",
      "Requirement already satisfied: torchvision==0.15.2 in /home/m-alien/miniconda3/envs/gosoftenv/lib/python3.8/site-packages (from -r requirements.txt (line 15)) (0.15.2)\n",
      "Requirement already satisfied: contourpy>=1.0.1 in /home/m-alien/miniconda3/envs/gosoftenv/lib/python3.8/site-packages (from matplotlib==3.7.1->-r requirements.txt (line 4)) (1.1.1)\n",
      "Requirement already satisfied: cycler>=0.10 in /home/m-alien/miniconda3/envs/gosoftenv/lib/python3.8/site-packages (from matplotlib==3.7.1->-r requirements.txt (line 4)) (0.12.1)\n",
      "Requirement already satisfied: fonttools>=4.22.0 in /home/m-alien/miniconda3/envs/gosoftenv/lib/python3.8/site-packages (from matplotlib==3.7.1->-r requirements.txt (line 4)) (4.55.0)\n",
      "Requirement already satisfied: kiwisolver>=1.0.1 in /home/m-alien/miniconda3/envs/gosoftenv/lib/python3.8/site-packages (from matplotlib==3.7.1->-r requirements.txt (line 4)) (1.4.7)\n",
      "Requirement already satisfied: packaging>=20.0 in /home/m-alien/miniconda3/envs/gosoftenv/lib/python3.8/site-packages (from matplotlib==3.7.1->-r requirements.txt (line 4)) (24.2)\n",
      "Requirement already satisfied: pillow>=6.2.0 in /home/m-alien/miniconda3/envs/gosoftenv/lib/python3.8/site-packages (from matplotlib==3.7.1->-r requirements.txt (line 4)) (10.4.0)\n",
      "Requirement already satisfied: pyparsing>=2.3.1 in /home/m-alien/miniconda3/envs/gosoftenv/lib/python3.8/site-packages (from matplotlib==3.7.1->-r requirements.txt (line 4)) (3.1.4)\n",
      "Requirement already satisfied: python-dateutil>=2.7 in /home/m-alien/miniconda3/envs/gosoftenv/lib/python3.8/site-packages (from matplotlib==3.7.1->-r requirements.txt (line 4)) (2.9.0)\n",
      "Requirement already satisfied: importlib-resources>=3.2.0 in /home/m-alien/miniconda3/envs/gosoftenv/lib/python3.8/site-packages (from matplotlib==3.7.1->-r requirements.txt (line 4)) (6.4.5)\n",
      "Requirement already satisfied: traitlets in /home/m-alien/miniconda3/envs/gosoftenv/lib/python3.8/site-packages (from matplotlib-inline==0.1.7->-r requirements.txt (line 5)) (5.14.3)\n",
      "Requirement already satisfied: llvmlite<0.41,>=0.40.0dev0 in /home/m-alien/miniconda3/envs/gosoftenv/lib/python3.8/site-packages (from numba==0.57.0->-r requirements.txt (line 6)) (0.40.1)\n",
      "Requirement already satisfied: importlib-metadata in /home/m-alien/miniconda3/envs/gosoftenv/lib/python3.8/site-packages (from numba==0.57.0->-r requirements.txt (line 6)) (8.5.0)\n",
      "Requirement already satisfied: pytz>=2020.1 in /home/m-alien/miniconda3/envs/gosoftenv/lib/python3.8/site-packages (from pandas==1.5.3->-r requirements.txt (line 8)) (2024.2)\n",
      "Requirement already satisfied: joblib>=1.1.1 in /home/m-alien/miniconda3/envs/gosoftenv/lib/python3.8/site-packages (from scikit-learn==1.2.2->-r requirements.txt (line 9)) (1.4.2)\n",
      "Requirement already satisfied: threadpoolctl>=2.0.0 in /home/m-alien/miniconda3/envs/gosoftenv/lib/python3.8/site-packages (from scikit-learn==1.2.2->-r requirements.txt (line 9)) (3.5.0)\n",
      "Requirement already satisfied: filelock in /home/m-alien/miniconda3/envs/gosoftenv/lib/python3.8/site-packages (from torch==2.0.1->-r requirements.txt (line 11)) (3.16.1)\n",
      "Requirement already satisfied: typing-extensions in /home/m-alien/miniconda3/envs/gosoftenv/lib/python3.8/site-packages (from torch==2.0.1->-r requirements.txt (line 11)) (4.12.2)\n",
      "Requirement already satisfied: sympy in /home/m-alien/miniconda3/envs/gosoftenv/lib/python3.8/site-packages (from torch==2.0.1->-r requirements.txt (line 11)) (1.13.3)\n",
      "Requirement already satisfied: networkx in /home/m-alien/miniconda3/envs/gosoftenv/lib/python3.8/site-packages (from torch==2.0.1->-r requirements.txt (line 11)) (3.1)\n",
      "Requirement already satisfied: jinja2 in /home/m-alien/miniconda3/envs/gosoftenv/lib/python3.8/site-packages (from torch==2.0.1->-r requirements.txt (line 11)) (3.1.4)\n",
      "Requirement already satisfied: nvidia-cuda-nvrtc-cu11==11.7.99 in /home/m-alien/miniconda3/envs/gosoftenv/lib/python3.8/site-packages (from torch==2.0.1->-r requirements.txt (line 11)) (11.7.99)\n",
      "Requirement already satisfied: nvidia-cuda-runtime-cu11==11.7.99 in /home/m-alien/miniconda3/envs/gosoftenv/lib/python3.8/site-packages (from torch==2.0.1->-r requirements.txt (line 11)) (11.7.99)\n",
      "Requirement already satisfied: nvidia-cuda-cupti-cu11==11.7.101 in /home/m-alien/miniconda3/envs/gosoftenv/lib/python3.8/site-packages (from torch==2.0.1->-r requirements.txt (line 11)) (11.7.101)\n",
      "Requirement already satisfied: nvidia-cudnn-cu11==8.5.0.96 in /home/m-alien/miniconda3/envs/gosoftenv/lib/python3.8/site-packages (from torch==2.0.1->-r requirements.txt (line 11)) (8.5.0.96)\n",
      "Requirement already satisfied: nvidia-cublas-cu11==11.10.3.66 in /home/m-alien/miniconda3/envs/gosoftenv/lib/python3.8/site-packages (from torch==2.0.1->-r requirements.txt (line 11)) (11.10.3.66)\n",
      "Requirement already satisfied: nvidia-cufft-cu11==10.9.0.58 in /home/m-alien/miniconda3/envs/gosoftenv/lib/python3.8/site-packages (from torch==2.0.1->-r requirements.txt (line 11)) (10.9.0.58)\n",
      "Requirement already satisfied: nvidia-curand-cu11==10.2.10.91 in /home/m-alien/miniconda3/envs/gosoftenv/lib/python3.8/site-packages (from torch==2.0.1->-r requirements.txt (line 11)) (10.2.10.91)\n",
      "Requirement already satisfied: nvidia-cusolver-cu11==11.4.0.1 in /home/m-alien/miniconda3/envs/gosoftenv/lib/python3.8/site-packages (from torch==2.0.1->-r requirements.txt (line 11)) (11.4.0.1)\n",
      "Requirement already satisfied: nvidia-cusparse-cu11==11.7.4.91 in /home/m-alien/miniconda3/envs/gosoftenv/lib/python3.8/site-packages (from torch==2.0.1->-r requirements.txt (line 11)) (11.7.4.91)\n",
      "Requirement already satisfied: nvidia-nccl-cu11==2.14.3 in /home/m-alien/miniconda3/envs/gosoftenv/lib/python3.8/site-packages (from torch==2.0.1->-r requirements.txt (line 11)) (2.14.3)\n",
      "Requirement already satisfied: nvidia-nvtx-cu11==11.7.91 in /home/m-alien/miniconda3/envs/gosoftenv/lib/python3.8/site-packages (from torch==2.0.1->-r requirements.txt (line 11)) (11.7.91)\n",
      "Requirement already satisfied: triton==2.0.0 in /home/m-alien/miniconda3/envs/gosoftenv/lib/python3.8/site-packages (from torch==2.0.1->-r requirements.txt (line 11)) (2.0.0)\n",
      "Requirement already satisfied: requests in /home/m-alien/miniconda3/envs/gosoftenv/lib/python3.8/site-packages (from torchvision==0.15.2->-r requirements.txt (line 15)) (2.32.3)\n",
      "Requirement already satisfied: setuptools in /home/m-alien/miniconda3/envs/gosoftenv/lib/python3.8/site-packages (from nvidia-cublas-cu11==11.10.3.66->torch==2.0.1->-r requirements.txt (line 11)) (75.1.0)\n",
      "Requirement already satisfied: wheel in /home/m-alien/miniconda3/envs/gosoftenv/lib/python3.8/site-packages (from nvidia-cublas-cu11==11.10.3.66->torch==2.0.1->-r requirements.txt (line 11)) (0.44.0)\n",
      "Requirement already satisfied: cmake in /home/m-alien/miniconda3/envs/gosoftenv/lib/python3.8/site-packages (from triton==2.0.0->torch==2.0.1->-r requirements.txt (line 11)) (3.31.1)\n",
      "Requirement already satisfied: lit in /home/m-alien/miniconda3/envs/gosoftenv/lib/python3.8/site-packages (from triton==2.0.0->torch==2.0.1->-r requirements.txt (line 11)) (18.1.8)\n",
      "Requirement already satisfied: zipp>=3.1.0 in /home/m-alien/miniconda3/envs/gosoftenv/lib/python3.8/site-packages (from importlib-resources>=3.2.0->matplotlib==3.7.1->-r requirements.txt (line 4)) (3.20.2)\n",
      "Requirement already satisfied: six>=1.5 in /home/m-alien/miniconda3/envs/gosoftenv/lib/python3.8/site-packages (from python-dateutil>=2.7->matplotlib==3.7.1->-r requirements.txt (line 4)) (1.16.0)\n",
      "Requirement already satisfied: MarkupSafe>=2.0 in /home/m-alien/miniconda3/envs/gosoftenv/lib/python3.8/site-packages (from jinja2->torch==2.0.1->-r requirements.txt (line 11)) (2.1.5)\n",
      "Requirement already satisfied: charset-normalizer<4,>=2 in /home/m-alien/miniconda3/envs/gosoftenv/lib/python3.8/site-packages (from requests->torchvision==0.15.2->-r requirements.txt (line 15)) (3.4.0)\n",
      "Requirement already satisfied: idna<4,>=2.5 in /home/m-alien/miniconda3/envs/gosoftenv/lib/python3.8/site-packages (from requests->torchvision==0.15.2->-r requirements.txt (line 15)) (3.10)\n",
      "Requirement already satisfied: urllib3<3,>=1.21.1 in /home/m-alien/miniconda3/envs/gosoftenv/lib/python3.8/site-packages (from requests->torchvision==0.15.2->-r requirements.txt (line 15)) (2.2.3)\n",
      "Requirement already satisfied: certifi>=2017.4.17 in /home/m-alien/miniconda3/envs/gosoftenv/lib/python3.8/site-packages (from requests->torchvision==0.15.2->-r requirements.txt (line 15)) (2024.8.30)\n",
      "Requirement already satisfied: mpmath<1.4,>=1.1.0 in /home/m-alien/miniconda3/envs/gosoftenv/lib/python3.8/site-packages (from sympy->torch==2.0.1->-r requirements.txt (line 11)) (1.3.0)\n"
     ]
    }
   ],
   "source": [
    "!pip install -r requirements.txt"
   ]
  },
  {
   "cell_type": "code",
   "execution_count": null,
   "metadata": {},
   "outputs": [],
   "source": []
  }
 ],
 "metadata": {
  "kernelspec": {
   "display_name": "gosoftenv",
   "language": "python",
   "name": "python3"
  },
  "language_info": {
   "codemirror_mode": {
    "name": "ipython",
    "version": 3
   },
   "file_extension": ".py",
   "mimetype": "text/x-python",
   "name": "python",
   "nbconvert_exporter": "python",
   "pygments_lexer": "ipython3",
   "version": "3.8.20"
  }
 },
 "nbformat": 4,
 "nbformat_minor": 2
}
